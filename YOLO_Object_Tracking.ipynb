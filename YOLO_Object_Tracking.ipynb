{
  "nbformat": 4,
  "nbformat_minor": 0,
  "metadata": {
    "colab": {
      "provenance": [],
      "gpuType": "T4",
      "authorship_tag": "ABX9TyNW+Ooc4f/NUMBWqt7GRF5k",
      "include_colab_link": true
    },
    "kernelspec": {
      "name": "python3",
      "display_name": "Python 3"
    },
    "language_info": {
      "name": "python"
    },
    "accelerator": "GPU"
  },
  "cells": [
    {
      "cell_type": "markdown",
      "metadata": {
        "id": "view-in-github",
        "colab_type": "text"
      },
      "source": [
        "<a href=\"https://colab.research.google.com/github/conglapgit45/YOLO_Object_Tracking/blob/main/YOLO_Object_Tracking.ipynb\" target=\"_parent\"><img src=\"https://colab.research.google.com/assets/colab-badge.svg\" alt=\"Open In Colab\"/></a>"
      ]
    },
    {
      "cell_type": "code",
      "source": [
        "!pip install ultralytics\n",
        "!pip install loguru"
      ],
      "metadata": {
        "colab": {
          "base_uri": "https://localhost:8080/"
        },
        "id": "tYjsIeSTl3Xg",
        "outputId": "14a775a3-2897-47ca-98d9-9caa5918d4ef"
      },
      "execution_count": 1,
      "outputs": [
        {
          "output_type": "stream",
          "name": "stdout",
          "text": [
            "Requirement already satisfied: ultralytics in /usr/local/lib/python3.11/dist-packages (8.3.67)\n",
            "Requirement already satisfied: numpy>=1.23.0 in /usr/local/lib/python3.11/dist-packages (from ultralytics) (1.26.4)\n",
            "Requirement already satisfied: matplotlib>=3.3.0 in /usr/local/lib/python3.11/dist-packages (from ultralytics) (3.10.0)\n",
            "Requirement already satisfied: opencv-python>=4.6.0 in /usr/local/lib/python3.11/dist-packages (from ultralytics) (4.10.0.84)\n",
            "Requirement already satisfied: pillow>=7.1.2 in /usr/local/lib/python3.11/dist-packages (from ultralytics) (11.1.0)\n",
            "Requirement already satisfied: pyyaml>=5.3.1 in /usr/local/lib/python3.11/dist-packages (from ultralytics) (6.0.2)\n",
            "Requirement already satisfied: requests>=2.23.0 in /usr/local/lib/python3.11/dist-packages (from ultralytics) (2.32.3)\n",
            "Requirement already satisfied: scipy>=1.4.1 in /usr/local/lib/python3.11/dist-packages (from ultralytics) (1.13.1)\n",
            "Requirement already satisfied: torch>=1.8.0 in /usr/local/lib/python3.11/dist-packages (from ultralytics) (2.5.1+cu121)\n",
            "Requirement already satisfied: torchvision>=0.9.0 in /usr/local/lib/python3.11/dist-packages (from ultralytics) (0.20.1+cu121)\n",
            "Requirement already satisfied: tqdm>=4.64.0 in /usr/local/lib/python3.11/dist-packages (from ultralytics) (4.67.1)\n",
            "Requirement already satisfied: psutil in /usr/local/lib/python3.11/dist-packages (from ultralytics) (5.9.5)\n",
            "Requirement already satisfied: py-cpuinfo in /usr/local/lib/python3.11/dist-packages (from ultralytics) (9.0.0)\n",
            "Requirement already satisfied: pandas>=1.1.4 in /usr/local/lib/python3.11/dist-packages (from ultralytics) (2.2.2)\n",
            "Requirement already satisfied: seaborn>=0.11.0 in /usr/local/lib/python3.11/dist-packages (from ultralytics) (0.13.2)\n",
            "Requirement already satisfied: ultralytics-thop>=2.0.0 in /usr/local/lib/python3.11/dist-packages (from ultralytics) (2.0.14)\n",
            "Requirement already satisfied: contourpy>=1.0.1 in /usr/local/lib/python3.11/dist-packages (from matplotlib>=3.3.0->ultralytics) (1.3.1)\n",
            "Requirement already satisfied: cycler>=0.10 in /usr/local/lib/python3.11/dist-packages (from matplotlib>=3.3.0->ultralytics) (0.12.1)\n",
            "Requirement already satisfied: fonttools>=4.22.0 in /usr/local/lib/python3.11/dist-packages (from matplotlib>=3.3.0->ultralytics) (4.55.3)\n",
            "Requirement already satisfied: kiwisolver>=1.3.1 in /usr/local/lib/python3.11/dist-packages (from matplotlib>=3.3.0->ultralytics) (1.4.8)\n",
            "Requirement already satisfied: packaging>=20.0 in /usr/local/lib/python3.11/dist-packages (from matplotlib>=3.3.0->ultralytics) (24.2)\n",
            "Requirement already satisfied: pyparsing>=2.3.1 in /usr/local/lib/python3.11/dist-packages (from matplotlib>=3.3.0->ultralytics) (3.2.1)\n",
            "Requirement already satisfied: python-dateutil>=2.7 in /usr/local/lib/python3.11/dist-packages (from matplotlib>=3.3.0->ultralytics) (2.8.2)\n",
            "Requirement already satisfied: pytz>=2020.1 in /usr/local/lib/python3.11/dist-packages (from pandas>=1.1.4->ultralytics) (2024.2)\n",
            "Requirement already satisfied: tzdata>=2022.7 in /usr/local/lib/python3.11/dist-packages (from pandas>=1.1.4->ultralytics) (2024.2)\n",
            "Requirement already satisfied: charset-normalizer<4,>=2 in /usr/local/lib/python3.11/dist-packages (from requests>=2.23.0->ultralytics) (3.4.1)\n",
            "Requirement already satisfied: idna<4,>=2.5 in /usr/local/lib/python3.11/dist-packages (from requests>=2.23.0->ultralytics) (3.10)\n",
            "Requirement already satisfied: urllib3<3,>=1.21.1 in /usr/local/lib/python3.11/dist-packages (from requests>=2.23.0->ultralytics) (2.3.0)\n",
            "Requirement already satisfied: certifi>=2017.4.17 in /usr/local/lib/python3.11/dist-packages (from requests>=2.23.0->ultralytics) (2024.12.14)\n",
            "Requirement already satisfied: filelock in /usr/local/lib/python3.11/dist-packages (from torch>=1.8.0->ultralytics) (3.16.1)\n",
            "Requirement already satisfied: typing-extensions>=4.8.0 in /usr/local/lib/python3.11/dist-packages (from torch>=1.8.0->ultralytics) (4.12.2)\n",
            "Requirement already satisfied: networkx in /usr/local/lib/python3.11/dist-packages (from torch>=1.8.0->ultralytics) (3.4.2)\n",
            "Requirement already satisfied: jinja2 in /usr/local/lib/python3.11/dist-packages (from torch>=1.8.0->ultralytics) (3.1.5)\n",
            "Requirement already satisfied: fsspec in /usr/local/lib/python3.11/dist-packages (from torch>=1.8.0->ultralytics) (2024.10.0)\n",
            "Requirement already satisfied: nvidia-cuda-nvrtc-cu12==12.1.105 in /usr/local/lib/python3.11/dist-packages (from torch>=1.8.0->ultralytics) (12.1.105)\n",
            "Requirement already satisfied: nvidia-cuda-runtime-cu12==12.1.105 in /usr/local/lib/python3.11/dist-packages (from torch>=1.8.0->ultralytics) (12.1.105)\n",
            "Requirement already satisfied: nvidia-cuda-cupti-cu12==12.1.105 in /usr/local/lib/python3.11/dist-packages (from torch>=1.8.0->ultralytics) (12.1.105)\n",
            "Requirement already satisfied: nvidia-cudnn-cu12==9.1.0.70 in /usr/local/lib/python3.11/dist-packages (from torch>=1.8.0->ultralytics) (9.1.0.70)\n",
            "Requirement already satisfied: nvidia-cublas-cu12==12.1.3.1 in /usr/local/lib/python3.11/dist-packages (from torch>=1.8.0->ultralytics) (12.1.3.1)\n",
            "Requirement already satisfied: nvidia-cufft-cu12==11.0.2.54 in /usr/local/lib/python3.11/dist-packages (from torch>=1.8.0->ultralytics) (11.0.2.54)\n",
            "Requirement already satisfied: nvidia-curand-cu12==10.3.2.106 in /usr/local/lib/python3.11/dist-packages (from torch>=1.8.0->ultralytics) (10.3.2.106)\n",
            "Requirement already satisfied: nvidia-cusolver-cu12==11.4.5.107 in /usr/local/lib/python3.11/dist-packages (from torch>=1.8.0->ultralytics) (11.4.5.107)\n",
            "Requirement already satisfied: nvidia-cusparse-cu12==12.1.0.106 in /usr/local/lib/python3.11/dist-packages (from torch>=1.8.0->ultralytics) (12.1.0.106)\n",
            "Requirement already satisfied: nvidia-nccl-cu12==2.21.5 in /usr/local/lib/python3.11/dist-packages (from torch>=1.8.0->ultralytics) (2.21.5)\n",
            "Requirement already satisfied: nvidia-nvtx-cu12==12.1.105 in /usr/local/lib/python3.11/dist-packages (from torch>=1.8.0->ultralytics) (12.1.105)\n",
            "Requirement already satisfied: triton==3.1.0 in /usr/local/lib/python3.11/dist-packages (from torch>=1.8.0->ultralytics) (3.1.0)\n",
            "Requirement already satisfied: sympy==1.13.1 in /usr/local/lib/python3.11/dist-packages (from torch>=1.8.0->ultralytics) (1.13.1)\n",
            "Requirement already satisfied: nvidia-nvjitlink-cu12 in /usr/local/lib/python3.11/dist-packages (from nvidia-cusolver-cu12==11.4.5.107->torch>=1.8.0->ultralytics) (12.6.85)\n",
            "Requirement already satisfied: mpmath<1.4,>=1.1.0 in /usr/local/lib/python3.11/dist-packages (from sympy==1.13.1->torch>=1.8.0->ultralytics) (1.3.0)\n",
            "Requirement already satisfied: six>=1.5 in /usr/local/lib/python3.11/dist-packages (from python-dateutil>=2.7->matplotlib>=3.3.0->ultralytics) (1.17.0)\n",
            "Requirement already satisfied: MarkupSafe>=2.0 in /usr/local/lib/python3.11/dist-packages (from jinja2->torch>=1.8.0->ultralytics) (3.0.2)\n",
            "Requirement already satisfied: loguru in /usr/local/lib/python3.11/dist-packages (0.7.3)\n"
          ]
        }
      ]
    },
    {
      "cell_type": "code",
      "execution_count": 2,
      "metadata": {
        "id": "fSo4RAiuiDi9"
      },
      "outputs": [],
      "source": [
        "import argparse\n",
        "from collections import defaultdict\n",
        "import cv2\n",
        "import numpy as np\n",
        "from tqdm import tqdm\n",
        "from ultralytics import YOLO\n",
        "from loguru import logger\n",
        "import sys"
      ]
    },
    {
      "cell_type": "markdown",
      "source": [
        "# Define config and initialize video"
      ],
      "metadata": {
        "id": "NJnxPe3zmXfn"
      }
    },
    {
      "cell_type": "code",
      "source": [
        "def load_config():\n",
        "    # Load and return configuration settings\n",
        "    return {\n",
        "        \"model_path\": \"yolo11x.pt\",\n",
        "        \"track_history_length\": 120,\n",
        "        \"batch_size\": 16,\n",
        "        \"line_thickness\": 4,\n",
        "        \"track_color\": (230, 230, 230),\n",
        "    }\n",
        "\n",
        "def initialize_video(video_path):\n",
        "    # Initialize video capture and writer objects\n",
        "    cap = cv2.VideoCapture(video_path)\n",
        "    width = int(cap.get(cv2.CAP_PROP_FRAME_WIDTH))\n",
        "    height = int(cap.get(cv2.CAP_PROP_FRAME_HEIGHT))\n",
        "    fps = int(cap.get(cv2.CAP_PROP_FPS))\n",
        "\n",
        "    video_name = video_path.split(\"/\")[-1]\n",
        "    output_path = f\"/content/{video_name.split('.')[0]}_tracked.mp4\"\n",
        "    fourcc = cv2.VideoWriter_fourcc(*\"mp4v\")\n",
        "    out = cv2.VideoWriter(output_path, fourcc, fps, (width, height))\n",
        "\n",
        "    return cap, out, output_path"
      ],
      "metadata": {
        "id": "iorH2bMKmX_x"
      },
      "execution_count": 11,
      "outputs": []
    },
    {
      "cell_type": "code",
      "source": [
        "def update_track_history(track_history, last_seen, track_ids, frame_count, batch_size, frame_idx, history_length,):\n",
        "    # Update tracking history and remove old tracks\n",
        "    current_tracks = set(track_ids)\n",
        "    for track_id in list(track_history.keys()):\n",
        "        if track_id in current_tracks:\n",
        "            last_seen[track_id] = frame_count - (batch_size - frame_idx - 1)\n",
        "        elif frame_count - last_seen[track_id] > history_length:\n",
        "            del track_history[track_id]\n",
        "            del last_seen[track_id]\n",
        "\n",
        "\n",
        "def draw_tracks(frame, boxes, track_ids, track_history, config):\n",
        "    # Draw tracking lines on frame\n",
        "    if not track_ids:\n",
        "        return frame\n",
        "\n",
        "    for box, track_id in zip(boxes, track_ids):\n",
        "        x, y, w, h = box\n",
        "        track = track_history[track_id]\n",
        "        track.append((float(x), float(y)))\n",
        "        if len(track) > config[\"track_history_length\"]:\n",
        "            track . pop (0)\n",
        "\n",
        "        points = np.hstack(track).astype(np.int32).reshape((-1, 1, 2))\n",
        "        cv2.polylines(\n",
        "            frame,\n",
        "            [points],\n",
        "            isClosed = False,\n",
        "            color = config[\"track_color\"],\n",
        "            thickness = config[\"line_thickness\"],\n",
        "        )\n",
        "    return frame"
      ],
      "metadata": {
        "id": "rfy-m3H3n6Ag"
      },
      "execution_count": 4,
      "outputs": []
    },
    {
      "cell_type": "code",
      "source": [
        "def process_batch(model, batch_frames, track_history, last_seen, frame_count, config):\n",
        "    # Process a batch of frames through YOLO model\n",
        "    results = model.track(\n",
        "        batch_frames,\n",
        "        persist = True,\n",
        "        tracker = \"botsort.yaml\",\n",
        "        show = False,\n",
        "        verbose = False,\n",
        "        iou = 0.5,\n",
        "    )\n",
        "\n",
        "    processed_frames = []\n",
        "    for frame_idx, result in enumerate(results):\n",
        "        boxes = result.boxes.xywh.cpu()\n",
        "        track_ids = (result.boxes.id.int().cpu().tolist() if result.boxes.id is not None else [])\n",
        "\n",
        "    update_track_history(\n",
        "        track_history,\n",
        "        last_seen,\n",
        "        track_ids,\n",
        "        frame_count,\n",
        "        len (batch_frames),\n",
        "        frame_idx,\n",
        "        config[\"track_history_length\"],\n",
        "    )\n",
        "\n",
        "    annotated_frame = result.plot(font_size=4, line_width=2)\n",
        "    annotated_frame = draw_tracks(annotated_frame, boxes, track_ids, track_history, config)\n",
        "    processed_frames.append(annotated_frame)\n",
        "\n",
        "    return processed_frames"
      ],
      "metadata": {
        "id": "uhquv6_1pvLO"
      },
      "execution_count": 5,
      "outputs": []
    },
    {
      "cell_type": "code",
      "source": [
        "def main(video_path):\n",
        "    # Main function to process video\n",
        "    CONFIG = load_config()\n",
        "    model = YOLO(CONFIG.get(\"model_path\", \"yolo11x.pt\"))\n",
        "\n",
        "    cap, out, output_path = initialize_video(video_path)\n",
        "    track_history = defaultdict(list)\n",
        "    last_seen = defaultdict(int)\n",
        "    total_frames = int(cap.get(cv2.CAP_PROP_FRAME_COUNT))\n",
        "\n",
        "    with tqdm(total=total_frames, desc=\"Processing frames\", colour=\"green\") as pbar:\n",
        "        frame_count = 0\n",
        "        batch_frames = []\n",
        "\n",
        "        while cap.isOpened():\n",
        "            success, frame = cap.read()\n",
        "            if not success:\n",
        "                break\n",
        "\n",
        "            frame_count += 1\n",
        "            batch_frames.append(frame)\n",
        "\n",
        "            if len(batch_frames) == CONFIG[\"batch_size\"] or frame_count == total_frames:\n",
        "                try:\n",
        "                    processed_frames = process_batch(\n",
        "                        model,\n",
        "                        batch_frames,\n",
        "                        track_history,\n",
        "                        last_seen,\n",
        "                        frame_count,\n",
        "                        CONFIG,\n",
        "                    )\n",
        "                    for frame in processed_frames:\n",
        "                        out.write(frame)\n",
        "                    pbar.update(len(batch_frames))\n",
        "                    batch_frames = []\n",
        "                except Exception as e:\n",
        "                    logger.error(f\"Error processing frames {frame_count - len(batch_frames) + 1} to {frame_count}: {e}\")\n",
        "                    batch_frames = []\n",
        "                    continue\n",
        "\n",
        "    cap.release()\n",
        "    out.release()\n",
        "    # cv2.destroyAllWindows()\n",
        "    logger.info(f\"Output saved to {output_path}\")\n",
        "\n",
        "\n",
        "if __name__ == \"__main__\":\n",
        "    # For Google Colab, provide the video path directly\n",
        "    video_path = \"/content/Crazy yet Organized Traffic in Vietnam Ho Chi Minh (online-video-cutter.com).mp4\"  # Replace with your uploaded video path\n",
        "    main(video_path)"
      ],
      "metadata": {
        "colab": {
          "base_uri": "https://localhost:8080/"
        },
        "id": "51EIpYROFt7-",
        "outputId": "89d8fa35-252c-4161-c2f5-d8a613554803"
      },
      "execution_count": 12,
      "outputs": [
        {
          "output_type": "stream",
          "name": "stderr",
          "text": [
            "Processing frames: 100%|\u001b[32m██████████\u001b[0m| 1394/1394 [01:59<00:00, 11.62it/s]\n",
            "\u001b[32m2025-01-24 17:16:49.183\u001b[0m | \u001b[1mINFO    \u001b[0m | \u001b[36m__main__\u001b[0m:\u001b[36mmain\u001b[0m:\u001b[36m45\u001b[0m - \u001b[1mOutput saved to /content/Crazy yet Organized Traffic in Vietnam Ho Chi Minh (online-video-cutter_tracked.mp4\u001b[0m\n"
          ]
        }
      ]
    }
  ]
}